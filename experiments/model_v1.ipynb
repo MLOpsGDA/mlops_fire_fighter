{
 "cells": [
  {
   "cell_type": "code",
   "execution_count": 1,
   "id": "76ceda5b",
   "metadata": {},
   "outputs": [],
   "source": [
    "import sys\n",
    "import os\n",
    "import io\n",
    "\n",
    "root_path = os.path.abspath(os.path.join(os.getcwd(), '..'))\n",
    "sys.path.append(root_path)"
   ]
  },
  {
   "cell_type": "code",
   "execution_count": 2,
   "id": "f0c27246",
   "metadata": {},
   "outputs": [],
   "source": [
    "import warnings\n",
    "warnings.filterwarnings('ignore')"
   ]
  },
  {
   "cell_type": "code",
   "execution_count": 3,
   "id": "5c259e63",
   "metadata": {},
   "outputs": [],
   "source": [
    "import pandas as pd\n",
    "from utils.model_pipeline import get_pipeline\n",
    "from utils.train_predict_model import train_model, predict_model"
   ]
  },
  {
   "cell_type": "markdown",
   "id": "7cf17799",
   "metadata": {},
   "source": [
    "## Read Data"
   ]
  },
  {
   "cell_type": "code",
   "execution_count": 4,
   "id": "6af0ba36",
   "metadata": {},
   "outputs": [],
   "source": [
    "file_path = os.path.abspath(os.path.join(os.getcwd(), '../data'))"
   ]
  },
  {
   "cell_type": "code",
   "execution_count": 5,
   "id": "3abbbc7b",
   "metadata": {},
   "outputs": [],
   "source": [
    "train = pd.read_pickle(file_path + '/train.pkl')\n",
    "test = pd.read_pickle(file_path + '/test.pkl')"
   ]
  },
  {
   "cell_type": "code",
   "execution_count": 6,
   "id": "4115e6d1",
   "metadata": {},
   "outputs": [
    {
     "data": {
      "text/plain": [
       "((284309, 42), (35723, 42))"
      ]
     },
     "execution_count": 6,
     "metadata": {},
     "output_type": "execute_result"
    }
   ],
   "source": [
    "train.shape, test.shape"
   ]
  },
  {
   "cell_type": "markdown",
   "id": "c27e98c3",
   "metadata": {},
   "source": [
    "## Feature sets\n",
    "\n",
    "The lists below contain the features available in the data.\n",
    "\n",
    "- target_feature: the target feature\n",
    "- drop_features: features that will be dropped and are not considered\n",
    "- cat_features: the categorical features\n",
    "- num_features: the numerical features \n",
    "- id_feature: the id feature"
   ]
  },
  {
   "cell_type": "code",
   "execution_count": 7,
   "id": "65fe3a76",
   "metadata": {},
   "outputs": [],
   "source": [
    "target = 'FirstPumpArriving_AttendanceTime_min'\n",
    "\n",
    "drop_features = ['DateOfCall', 'CalYear', 'TimeOfCall', 'SpecialServiceType', 'Postcode_full',\n",
    "                 'Postcode_district', 'UPRN', 'USRN', 'IncGeo_BoroughName', 'IncGeo_WardCode',\n",
    "                 'IncGeo_WardNameNew', 'Easting_m', 'Northing_m', 'Easting_rounded', 'Northing_rounded',\n",
    "                 'Latitude', 'Longitude', 'FRS', 'IncidentStationGround', 'FirstPumpArriving_AttendanceTime',\n",
    "                 'SecondPumpArriving_AttendanceTime', 'SecondPumpArriving_DeployedFromStation',\n",
    "                 'PumpCount', 'PumpHoursRoundUp', 'FirstPumpArriving_DeployedFromStation', 'IncGeo_BoroughCode']\n",
    "\n",
    "cat_features = ['IncidentGroup', 'StopCodeDescription', 'PropertyCategory', 'PropertyType',\n",
    "                'AddressQualifier', 'ProperCase', 'IncGeo_WardName', 'PartOfDay']\n",
    "\n",
    "num_features = ['HourOfCall', 'NumStationsWithPumpsAttending', 'NumPumpsAttending', 'Notional Cost (£)',\n",
    "                'NumCalls', 'DateOfCall_Month']\n",
    "\n",
    "id_feature = 'IncidentNumber'\n",
    "\n",
    "full_list_features =  set(cat_features + num_features)"
   ]
  },
  {
   "cell_type": "markdown",
   "id": "2656f00a",
   "metadata": {},
   "source": [
    "## Drop features & define modeling data sets "
   ]
  },
  {
   "cell_type": "code",
   "execution_count": 8,
   "id": "4bf26749",
   "metadata": {},
   "outputs": [],
   "source": [
    "train = train.drop(columns=drop_features, axis=1)\n",
    "test = test.drop(columns=drop_features, axis=1)"
   ]
  },
  {
   "cell_type": "code",
   "execution_count": 9,
   "id": "0d18dfc9",
   "metadata": {},
   "outputs": [
    {
     "data": {
      "text/plain": [
       "((284309, 16), (35723, 16))"
      ]
     },
     "execution_count": 9,
     "metadata": {},
     "output_type": "execute_result"
    }
   ],
   "source": [
    "train.shape, test.shape"
   ]
  },
  {
   "cell_type": "code",
   "execution_count": 10,
   "id": "1fa65fe3",
   "metadata": {},
   "outputs": [],
   "source": [
    "X_train = train.drop(columns=[target]+[id_feature])\n",
    "y_train = train[target]\n",
    "X_test = test.drop(columns=[target]+[id_feature])\n",
    "y_test = test[target]"
   ]
  },
  {
   "cell_type": "code",
   "execution_count": 11,
   "id": "4d8430fc",
   "metadata": {},
   "outputs": [],
   "source": [
    "assert full_list_features ==  set(X_train.columns), 'missmatch in training and expected features'\n",
    "assert full_list_features ==  set(X_test.columns), 'missmatch in test and expected features'"
   ]
  },
  {
   "cell_type": "markdown",
   "id": "0ef7fcf1",
   "metadata": {},
   "source": [
    "## LGBM\n",
    "Default HP values."
   ]
  },
  {
   "cell_type": "code",
   "execution_count": 12,
   "id": "d4a5b10f",
   "metadata": {},
   "outputs": [],
   "source": [
    "pipe_lgbm = get_pipeline(num_features=num_features,\n",
    "                         cat_features=cat_features,\n",
    "                         algorithm='lgbm',\n",
    "                         use_grid_search=False)"
   ]
  },
  {
   "cell_type": "code",
   "execution_count": null,
   "id": "b39a9e0c",
   "metadata": {},
   "outputs": [],
   "source": [
    "# Example how to apply grid search to tune the HP\n",
    "\n",
    "#pipe_lgbm = get_pipeline(num_features=num_features,\n",
    "#                         cat_features=cat_features,\n",
    "#                         algorithm='lgbm',\n",
    "#                         use_grid_search=True,\n",
    "#                         tuning_params={\"estimator__colsample_bytree\": [0.7,0.8,1.0],\n",
    "#                                        \"estimator__max_depth\": [-1,10,20]}\n",
    "#                        )\n",
    "\n",
    "# Fit using grid search to tune the HP\n",
    "\n",
    "#lgbm_grid = train_model(pipeline=pipe_lgbm,\n",
    "#                        xtrain=X_train,\n",
    "#                        ytrain=y_train)\n",
    "\n",
    "# Predict the model with the best params\n",
    "\n",
    "#predict_model(trained_model=lgbm_grid,\n",
    "#              xtest=X_test,\n",
    "#              ytest=y_test)"
   ]
  },
  {
   "cell_type": "code",
   "execution_count": 13,
   "id": "e863ae03",
   "metadata": {},
   "outputs": [],
   "source": [
    "lgbm = train_model(pipeline=pipe_lgbm,\n",
    "                   xtrain=X_train,\n",
    "                   ytrain=y_train)"
   ]
  },
  {
   "cell_type": "code",
   "execution_count": 14,
   "id": "ccd1cb46",
   "metadata": {},
   "outputs": [
    {
     "data": {
      "text/html": [
       "<style>#sk-container-id-1 {color: black;background-color: white;}#sk-container-id-1 pre{padding: 0;}#sk-container-id-1 div.sk-toggleable {background-color: white;}#sk-container-id-1 label.sk-toggleable__label {cursor: pointer;display: block;width: 100%;margin-bottom: 0;padding: 0.3em;box-sizing: border-box;text-align: center;}#sk-container-id-1 label.sk-toggleable__label-arrow:before {content: \"▸\";float: left;margin-right: 0.25em;color: #696969;}#sk-container-id-1 label.sk-toggleable__label-arrow:hover:before {color: black;}#sk-container-id-1 div.sk-estimator:hover label.sk-toggleable__label-arrow:before {color: black;}#sk-container-id-1 div.sk-toggleable__content {max-height: 0;max-width: 0;overflow: hidden;text-align: left;background-color: #f0f8ff;}#sk-container-id-1 div.sk-toggleable__content pre {margin: 0.2em;color: black;border-radius: 0.25em;background-color: #f0f8ff;}#sk-container-id-1 input.sk-toggleable__control:checked~div.sk-toggleable__content {max-height: 200px;max-width: 100%;overflow: auto;}#sk-container-id-1 input.sk-toggleable__control:checked~label.sk-toggleable__label-arrow:before {content: \"▾\";}#sk-container-id-1 div.sk-estimator input.sk-toggleable__control:checked~label.sk-toggleable__label {background-color: #d4ebff;}#sk-container-id-1 div.sk-label input.sk-toggleable__control:checked~label.sk-toggleable__label {background-color: #d4ebff;}#sk-container-id-1 input.sk-hidden--visually {border: 0;clip: rect(1px 1px 1px 1px);clip: rect(1px, 1px, 1px, 1px);height: 1px;margin: -1px;overflow: hidden;padding: 0;position: absolute;width: 1px;}#sk-container-id-1 div.sk-estimator {font-family: monospace;background-color: #f0f8ff;border: 1px dotted black;border-radius: 0.25em;box-sizing: border-box;margin-bottom: 0.5em;}#sk-container-id-1 div.sk-estimator:hover {background-color: #d4ebff;}#sk-container-id-1 div.sk-parallel-item::after {content: \"\";width: 100%;border-bottom: 1px solid gray;flex-grow: 1;}#sk-container-id-1 div.sk-label:hover label.sk-toggleable__label {background-color: #d4ebff;}#sk-container-id-1 div.sk-serial::before {content: \"\";position: absolute;border-left: 1px solid gray;box-sizing: border-box;top: 0;bottom: 0;left: 50%;z-index: 0;}#sk-container-id-1 div.sk-serial {display: flex;flex-direction: column;align-items: center;background-color: white;padding-right: 0.2em;padding-left: 0.2em;position: relative;}#sk-container-id-1 div.sk-item {position: relative;z-index: 1;}#sk-container-id-1 div.sk-parallel {display: flex;align-items: stretch;justify-content: center;background-color: white;position: relative;}#sk-container-id-1 div.sk-item::before, #sk-container-id-1 div.sk-parallel-item::before {content: \"\";position: absolute;border-left: 1px solid gray;box-sizing: border-box;top: 0;bottom: 0;left: 50%;z-index: -1;}#sk-container-id-1 div.sk-parallel-item {display: flex;flex-direction: column;z-index: 1;position: relative;background-color: white;}#sk-container-id-1 div.sk-parallel-item:first-child::after {align-self: flex-end;width: 50%;}#sk-container-id-1 div.sk-parallel-item:last-child::after {align-self: flex-start;width: 50%;}#sk-container-id-1 div.sk-parallel-item:only-child::after {width: 0;}#sk-container-id-1 div.sk-dashed-wrapped {border: 1px dashed gray;margin: 0 0.4em 0.5em 0.4em;box-sizing: border-box;padding-bottom: 0.4em;background-color: white;}#sk-container-id-1 div.sk-label label {font-family: monospace;font-weight: bold;display: inline-block;line-height: 1.2em;}#sk-container-id-1 div.sk-label-container {text-align: center;}#sk-container-id-1 div.sk-container {/* jupyter's `normalize.less` sets `[hidden] { display: none; }` but bootstrap.min.css set `[hidden] { display: none !important; }` so we also need the `!important` here to be able to override the default hidden behavior on the sphinx rendered scikit-learn.org. See: https://github.com/scikit-learn/scikit-learn/issues/21755 */display: inline-block !important;position: relative;}#sk-container-id-1 div.sk-text-repr-fallback {display: none;}</style><div id=\"sk-container-id-1\" class=\"sk-top-container\"><div class=\"sk-text-repr-fallback\"><pre>Pipeline(steps=[(&#x27;preprocessor&#x27;,\n",
       "                 Pipeline(steps=[(&#x27;StopCodeDescription_transformer&#x27;,\n",
       "                                  GroupRareLevelsTransformer(columns=[&#x27;StopCodeDescription&#x27;],\n",
       "                                                             cut_off_percent=0.05)),\n",
       "                                 (&#x27;PropertyCategory_transformer&#x27;,\n",
       "                                  GroupRareLevelsTransformer(columns=[&#x27;PropertyCategory&#x27;],\n",
       "                                                             cut_off_percent=0.05)),\n",
       "                                 (&#x27;PropertyType_transformer&#x27;,\n",
       "                                  GroupRareLevelsTransformer(columns=[&#x27;PropertyT...\n",
       "                                                   &#x27;NumPumpsAttending&#x27;,\n",
       "                                                   &#x27;Notional Cost (£)&#x27;,\n",
       "                                                   &#x27;NumCalls&#x27;,\n",
       "                                                   &#x27;DateOfCall_Month&#x27;]),\n",
       "                                                 (&#x27;categorical&#x27;,\n",
       "                                                  Pipeline(steps=[(&#x27;imputer&#x27;,\n",
       "                                                                   SimpleImputer(strategy=&#x27;most_frequent&#x27;))]),\n",
       "                                                  [&#x27;IncidentGroup&#x27;,\n",
       "                                                   &#x27;StopCodeDescription&#x27;,\n",
       "                                                   &#x27;PropertyCategory&#x27;,\n",
       "                                                   &#x27;PropertyType&#x27;,\n",
       "                                                   &#x27;AddressQualifier&#x27;,\n",
       "                                                   &#x27;ProperCase&#x27;,\n",
       "                                                   &#x27;IncGeo_WardName&#x27;,\n",
       "                                                   &#x27;PartOfDay&#x27;])])),\n",
       "                (&#x27;estimator&#x27;,\n",
       "                 LGBMRegressor(objective=&#x27;regression_l1&#x27;, random_state=24))])</pre><b>In a Jupyter environment, please rerun this cell to show the HTML representation or trust the notebook. <br />On GitHub, the HTML representation is unable to render, please try loading this page with nbviewer.org.</b></div><div class=\"sk-container\" hidden><div class=\"sk-item sk-dashed-wrapped\"><div class=\"sk-label-container\"><div class=\"sk-label sk-toggleable\"><input class=\"sk-toggleable__control sk-hidden--visually\" id=\"sk-estimator-id-1\" type=\"checkbox\" ><label for=\"sk-estimator-id-1\" class=\"sk-toggleable__label sk-toggleable__label-arrow\">Pipeline</label><div class=\"sk-toggleable__content\"><pre>Pipeline(steps=[(&#x27;preprocessor&#x27;,\n",
       "                 Pipeline(steps=[(&#x27;StopCodeDescription_transformer&#x27;,\n",
       "                                  GroupRareLevelsTransformer(columns=[&#x27;StopCodeDescription&#x27;],\n",
       "                                                             cut_off_percent=0.05)),\n",
       "                                 (&#x27;PropertyCategory_transformer&#x27;,\n",
       "                                  GroupRareLevelsTransformer(columns=[&#x27;PropertyCategory&#x27;],\n",
       "                                                             cut_off_percent=0.05)),\n",
       "                                 (&#x27;PropertyType_transformer&#x27;,\n",
       "                                  GroupRareLevelsTransformer(columns=[&#x27;PropertyT...\n",
       "                                                   &#x27;NumPumpsAttending&#x27;,\n",
       "                                                   &#x27;Notional Cost (£)&#x27;,\n",
       "                                                   &#x27;NumCalls&#x27;,\n",
       "                                                   &#x27;DateOfCall_Month&#x27;]),\n",
       "                                                 (&#x27;categorical&#x27;,\n",
       "                                                  Pipeline(steps=[(&#x27;imputer&#x27;,\n",
       "                                                                   SimpleImputer(strategy=&#x27;most_frequent&#x27;))]),\n",
       "                                                  [&#x27;IncidentGroup&#x27;,\n",
       "                                                   &#x27;StopCodeDescription&#x27;,\n",
       "                                                   &#x27;PropertyCategory&#x27;,\n",
       "                                                   &#x27;PropertyType&#x27;,\n",
       "                                                   &#x27;AddressQualifier&#x27;,\n",
       "                                                   &#x27;ProperCase&#x27;,\n",
       "                                                   &#x27;IncGeo_WardName&#x27;,\n",
       "                                                   &#x27;PartOfDay&#x27;])])),\n",
       "                (&#x27;estimator&#x27;,\n",
       "                 LGBMRegressor(objective=&#x27;regression_l1&#x27;, random_state=24))])</pre></div></div></div><div class=\"sk-serial\"><div class=\"sk-item\"><div class=\"sk-label-container\"><div class=\"sk-label sk-toggleable\"><input class=\"sk-toggleable__control sk-hidden--visually\" id=\"sk-estimator-id-2\" type=\"checkbox\" ><label for=\"sk-estimator-id-2\" class=\"sk-toggleable__label sk-toggleable__label-arrow\">preprocessor: Pipeline</label><div class=\"sk-toggleable__content\"><pre>Pipeline(steps=[(&#x27;StopCodeDescription_transformer&#x27;,\n",
       "                 GroupRareLevelsTransformer(columns=[&#x27;StopCodeDescription&#x27;],\n",
       "                                            cut_off_percent=0.05)),\n",
       "                (&#x27;PropertyCategory_transformer&#x27;,\n",
       "                 GroupRareLevelsTransformer(columns=[&#x27;PropertyCategory&#x27;],\n",
       "                                            cut_off_percent=0.05)),\n",
       "                (&#x27;PropertyType_transformer&#x27;,\n",
       "                 GroupRareLevelsTransformer(columns=[&#x27;PropertyType&#x27;],\n",
       "                                            cut_off_percent=0.03)),\n",
       "                (&#x27;A...\n",
       "                 GroupRareLevelsTransformer(columns=[&#x27;IncGeo_WardName&#x27;],\n",
       "                                            cut_off_percent=0.003)),\n",
       "                (&#x27;cap_national_cost&#x27;,\n",
       "                 CappingTransformer(capping_values={&#x27;Notional Cost (£)&#x27;: [0,\n",
       "                                                                          400]})),\n",
       "                (&#x27;PartOfDay_transformer&#x27;,\n",
       "                 NominalToIntegerTransformer(columns=[&#x27;IncidentGroup&#x27;,\n",
       "                                                      &#x27;StopCodeDescription&#x27;,\n",
       "                                                      &#x27;PropertyCategory&#x27;,\n",
       "                                                      &#x27;PropertyType&#x27;,\n",
       "                                                      &#x27;AddressQualifier&#x27;,\n",
       "                                                      &#x27;ProperCase&#x27;,\n",
       "                                                      &#x27;IncGeo_WardName&#x27;,\n",
       "                                                      &#x27;PartOfDay&#x27;]))])</pre></div></div></div><div class=\"sk-serial\"><div class=\"sk-item\"><div class=\"sk-estimator sk-toggleable\"><input class=\"sk-toggleable__control sk-hidden--visually\" id=\"sk-estimator-id-3\" type=\"checkbox\" ><label for=\"sk-estimator-id-3\" class=\"sk-toggleable__label sk-toggleable__label-arrow\">GroupRareLevelsTransformer</label><div class=\"sk-toggleable__content\"><pre>GroupRareLevelsTransformer(columns=[&#x27;StopCodeDescription&#x27;],\n",
       "                           cut_off_percent=0.05)</pre></div></div></div><div class=\"sk-item\"><div class=\"sk-estimator sk-toggleable\"><input class=\"sk-toggleable__control sk-hidden--visually\" id=\"sk-estimator-id-4\" type=\"checkbox\" ><label for=\"sk-estimator-id-4\" class=\"sk-toggleable__label sk-toggleable__label-arrow\">GroupRareLevelsTransformer</label><div class=\"sk-toggleable__content\"><pre>GroupRareLevelsTransformer(columns=[&#x27;PropertyCategory&#x27;], cut_off_percent=0.05)</pre></div></div></div><div class=\"sk-item\"><div class=\"sk-estimator sk-toggleable\"><input class=\"sk-toggleable__control sk-hidden--visually\" id=\"sk-estimator-id-5\" type=\"checkbox\" ><label for=\"sk-estimator-id-5\" class=\"sk-toggleable__label sk-toggleable__label-arrow\">GroupRareLevelsTransformer</label><div class=\"sk-toggleable__content\"><pre>GroupRareLevelsTransformer(columns=[&#x27;PropertyType&#x27;], cut_off_percent=0.03)</pre></div></div></div><div class=\"sk-item\"><div class=\"sk-estimator sk-toggleable\"><input class=\"sk-toggleable__control sk-hidden--visually\" id=\"sk-estimator-id-6\" type=\"checkbox\" ><label for=\"sk-estimator-id-6\" class=\"sk-toggleable__label sk-toggleable__label-arrow\">GroupRareLevelsTransformer</label><div class=\"sk-toggleable__content\"><pre>GroupRareLevelsTransformer(columns=[&#x27;AddressQualifier&#x27;], cut_off_percent=0.05)</pre></div></div></div><div class=\"sk-item\"><div class=\"sk-estimator sk-toggleable\"><input class=\"sk-toggleable__control sk-hidden--visually\" id=\"sk-estimator-id-7\" type=\"checkbox\" ><label for=\"sk-estimator-id-7\" class=\"sk-toggleable__label sk-toggleable__label-arrow\">GroupRareLevelsTransformer</label><div class=\"sk-toggleable__content\"><pre>GroupRareLevelsTransformer(columns=[&#x27;IncGeo_WardName&#x27;], cut_off_percent=0.003)</pre></div></div></div><div class=\"sk-item\"><div class=\"sk-estimator sk-toggleable\"><input class=\"sk-toggleable__control sk-hidden--visually\" id=\"sk-estimator-id-8\" type=\"checkbox\" ><label for=\"sk-estimator-id-8\" class=\"sk-toggleable__label sk-toggleable__label-arrow\">CappingTransformer</label><div class=\"sk-toggleable__content\"><pre>CappingTransformer(capping_values={&#x27;Notional Cost (£)&#x27;: [0, 400]})</pre></div></div></div><div class=\"sk-item\"><div class=\"sk-estimator sk-toggleable\"><input class=\"sk-toggleable__control sk-hidden--visually\" id=\"sk-estimator-id-9\" type=\"checkbox\" ><label for=\"sk-estimator-id-9\" class=\"sk-toggleable__label sk-toggleable__label-arrow\">NominalToIntegerTransformer</label><div class=\"sk-toggleable__content\"><pre>NominalToIntegerTransformer(columns=[&#x27;IncidentGroup&#x27;, &#x27;StopCodeDescription&#x27;,\n",
       "                                     &#x27;PropertyCategory&#x27;, &#x27;PropertyType&#x27;,\n",
       "                                     &#x27;AddressQualifier&#x27;, &#x27;ProperCase&#x27;,\n",
       "                                     &#x27;IncGeo_WardName&#x27;, &#x27;PartOfDay&#x27;])</pre></div></div></div></div></div><div class=\"sk-item sk-dashed-wrapped\"><div class=\"sk-label-container\"><div class=\"sk-label sk-toggleable\"><input class=\"sk-toggleable__control sk-hidden--visually\" id=\"sk-estimator-id-10\" type=\"checkbox\" ><label for=\"sk-estimator-id-10\" class=\"sk-toggleable__label sk-toggleable__label-arrow\">col_transformers: ColumnTransformer</label><div class=\"sk-toggleable__content\"><pre>ColumnTransformer(remainder=&#x27;passthrough&#x27;,\n",
       "                  transformers=[(&#x27;numerical&#x27;,\n",
       "                                 Pipeline(steps=[(&#x27;imputer&#x27;,\n",
       "                                                  SimpleImputer(strategy=&#x27;median&#x27;))]),\n",
       "                                 [&#x27;HourOfCall&#x27;, &#x27;NumStationsWithPumpsAttending&#x27;,\n",
       "                                  &#x27;NumPumpsAttending&#x27;, &#x27;Notional Cost (£)&#x27;,\n",
       "                                  &#x27;NumCalls&#x27;, &#x27;DateOfCall_Month&#x27;]),\n",
       "                                (&#x27;categorical&#x27;,\n",
       "                                 Pipeline(steps=[(&#x27;imputer&#x27;,\n",
       "                                                  SimpleImputer(strategy=&#x27;most_frequent&#x27;))]),\n",
       "                                 [&#x27;IncidentGroup&#x27;, &#x27;StopCodeDescription&#x27;,\n",
       "                                  &#x27;PropertyCategory&#x27;, &#x27;PropertyType&#x27;,\n",
       "                                  &#x27;AddressQualifier&#x27;, &#x27;ProperCase&#x27;,\n",
       "                                  &#x27;IncGeo_WardName&#x27;, &#x27;PartOfDay&#x27;])])</pre></div></div></div><div class=\"sk-parallel\"><div class=\"sk-parallel-item\"><div class=\"sk-item\"><div class=\"sk-label-container\"><div class=\"sk-label sk-toggleable\"><input class=\"sk-toggleable__control sk-hidden--visually\" id=\"sk-estimator-id-11\" type=\"checkbox\" ><label for=\"sk-estimator-id-11\" class=\"sk-toggleable__label sk-toggleable__label-arrow\">numerical</label><div class=\"sk-toggleable__content\"><pre>[&#x27;HourOfCall&#x27;, &#x27;NumStationsWithPumpsAttending&#x27;, &#x27;NumPumpsAttending&#x27;, &#x27;Notional Cost (£)&#x27;, &#x27;NumCalls&#x27;, &#x27;DateOfCall_Month&#x27;]</pre></div></div></div><div class=\"sk-serial\"><div class=\"sk-item\"><div class=\"sk-serial\"><div class=\"sk-item\"><div class=\"sk-estimator sk-toggleable\"><input class=\"sk-toggleable__control sk-hidden--visually\" id=\"sk-estimator-id-12\" type=\"checkbox\" ><label for=\"sk-estimator-id-12\" class=\"sk-toggleable__label sk-toggleable__label-arrow\">SimpleImputer</label><div class=\"sk-toggleable__content\"><pre>SimpleImputer(strategy=&#x27;median&#x27;)</pre></div></div></div></div></div></div></div></div><div class=\"sk-parallel-item\"><div class=\"sk-item\"><div class=\"sk-label-container\"><div class=\"sk-label sk-toggleable\"><input class=\"sk-toggleable__control sk-hidden--visually\" id=\"sk-estimator-id-13\" type=\"checkbox\" ><label for=\"sk-estimator-id-13\" class=\"sk-toggleable__label sk-toggleable__label-arrow\">categorical</label><div class=\"sk-toggleable__content\"><pre>[&#x27;IncidentGroup&#x27;, &#x27;StopCodeDescription&#x27;, &#x27;PropertyCategory&#x27;, &#x27;PropertyType&#x27;, &#x27;AddressQualifier&#x27;, &#x27;ProperCase&#x27;, &#x27;IncGeo_WardName&#x27;, &#x27;PartOfDay&#x27;]</pre></div></div></div><div class=\"sk-serial\"><div class=\"sk-item\"><div class=\"sk-serial\"><div class=\"sk-item\"><div class=\"sk-estimator sk-toggleable\"><input class=\"sk-toggleable__control sk-hidden--visually\" id=\"sk-estimator-id-14\" type=\"checkbox\" ><label for=\"sk-estimator-id-14\" class=\"sk-toggleable__label sk-toggleable__label-arrow\">SimpleImputer</label><div class=\"sk-toggleable__content\"><pre>SimpleImputer(strategy=&#x27;most_frequent&#x27;)</pre></div></div></div></div></div></div></div></div><div class=\"sk-parallel-item\"><div class=\"sk-item\"><div class=\"sk-label-container\"><div class=\"sk-label sk-toggleable\"><input class=\"sk-toggleable__control sk-hidden--visually\" id=\"sk-estimator-id-15\" type=\"checkbox\" ><label for=\"sk-estimator-id-15\" class=\"sk-toggleable__label sk-toggleable__label-arrow\">remainder</label><div class=\"sk-toggleable__content\"><pre>[]</pre></div></div></div><div class=\"sk-serial\"><div class=\"sk-item\"><div class=\"sk-estimator sk-toggleable\"><input class=\"sk-toggleable__control sk-hidden--visually\" id=\"sk-estimator-id-16\" type=\"checkbox\" ><label for=\"sk-estimator-id-16\" class=\"sk-toggleable__label sk-toggleable__label-arrow\">passthrough</label><div class=\"sk-toggleable__content\"><pre>passthrough</pre></div></div></div></div></div></div></div></div><div class=\"sk-item\"><div class=\"sk-estimator sk-toggleable\"><input class=\"sk-toggleable__control sk-hidden--visually\" id=\"sk-estimator-id-17\" type=\"checkbox\" ><label for=\"sk-estimator-id-17\" class=\"sk-toggleable__label sk-toggleable__label-arrow\">LGBMRegressor</label><div class=\"sk-toggleable__content\"><pre>LGBMRegressor(objective=&#x27;regression_l1&#x27;, random_state=24)</pre></div></div></div></div></div></div></div>"
      ],
      "text/plain": [
       "Pipeline(steps=[('preprocessor',\n",
       "                 Pipeline(steps=[('StopCodeDescription_transformer',\n",
       "                                  GroupRareLevelsTransformer(columns=['StopCodeDescription'],\n",
       "                                                             cut_off_percent=0.05)),\n",
       "                                 ('PropertyCategory_transformer',\n",
       "                                  GroupRareLevelsTransformer(columns=['PropertyCategory'],\n",
       "                                                             cut_off_percent=0.05)),\n",
       "                                 ('PropertyType_transformer',\n",
       "                                  GroupRareLevelsTransformer(columns=['PropertyT...\n",
       "                                                   'NumPumpsAttending',\n",
       "                                                   'Notional Cost (£)',\n",
       "                                                   'NumCalls',\n",
       "                                                   'DateOfCall_Month']),\n",
       "                                                 ('categorical',\n",
       "                                                  Pipeline(steps=[('imputer',\n",
       "                                                                   SimpleImputer(strategy='most_frequent'))]),\n",
       "                                                  ['IncidentGroup',\n",
       "                                                   'StopCodeDescription',\n",
       "                                                   'PropertyCategory',\n",
       "                                                   'PropertyType',\n",
       "                                                   'AddressQualifier',\n",
       "                                                   'ProperCase',\n",
       "                                                   'IncGeo_WardName',\n",
       "                                                   'PartOfDay'])])),\n",
       "                ('estimator',\n",
       "                 LGBMRegressor(objective='regression_l1', random_state=24))])"
      ]
     },
     "execution_count": 14,
     "metadata": {},
     "output_type": "execute_result"
    }
   ],
   "source": [
    "lgbm"
   ]
  },
  {
   "cell_type": "code",
   "execution_count": 15,
   "id": "993f2601",
   "metadata": {},
   "outputs": [
    {
     "name": "stdout",
     "output_type": "stream",
     "text": [
      "Mean Squared Error: 4.326871730486148\n",
      "Mean Absolute Error: 1.474296919682987\n",
      "Root Mean Squared Error: 2.080113393660583\n"
     ]
    }
   ],
   "source": [
    "predict_model(trained_model=lgbm,\n",
    "              xtest=X_test,\n",
    "              ytest=y_test)"
   ]
  },
  {
   "cell_type": "markdown",
   "id": "49caf8d7",
   "metadata": {},
   "source": [
    "## XGBoost"
   ]
  },
  {
   "cell_type": "code",
   "execution_count": 16,
   "id": "e4b500fc",
   "metadata": {},
   "outputs": [],
   "source": [
    "pipe_xgboost = get_pipeline(num_features=num_features,\n",
    "                            cat_features=cat_features,\n",
    "                            algorithm='xgboost',\n",
    "                            use_grid_search=False)"
   ]
  },
  {
   "cell_type": "code",
   "execution_count": 17,
   "id": "8997c764",
   "metadata": {},
   "outputs": [],
   "source": [
    "xgboost = train_model(pipeline=pipe_xgboost,\n",
    "                      xtrain=X_train,\n",
    "                      ytrain=y_train)"
   ]
  },
  {
   "cell_type": "code",
   "execution_count": 18,
   "id": "2eaef176",
   "metadata": {},
   "outputs": [
    {
     "data": {
      "text/html": [
       "<style>#sk-container-id-2 {color: black;background-color: white;}#sk-container-id-2 pre{padding: 0;}#sk-container-id-2 div.sk-toggleable {background-color: white;}#sk-container-id-2 label.sk-toggleable__label {cursor: pointer;display: block;width: 100%;margin-bottom: 0;padding: 0.3em;box-sizing: border-box;text-align: center;}#sk-container-id-2 label.sk-toggleable__label-arrow:before {content: \"▸\";float: left;margin-right: 0.25em;color: #696969;}#sk-container-id-2 label.sk-toggleable__label-arrow:hover:before {color: black;}#sk-container-id-2 div.sk-estimator:hover label.sk-toggleable__label-arrow:before {color: black;}#sk-container-id-2 div.sk-toggleable__content {max-height: 0;max-width: 0;overflow: hidden;text-align: left;background-color: #f0f8ff;}#sk-container-id-2 div.sk-toggleable__content pre {margin: 0.2em;color: black;border-radius: 0.25em;background-color: #f0f8ff;}#sk-container-id-2 input.sk-toggleable__control:checked~div.sk-toggleable__content {max-height: 200px;max-width: 100%;overflow: auto;}#sk-container-id-2 input.sk-toggleable__control:checked~label.sk-toggleable__label-arrow:before {content: \"▾\";}#sk-container-id-2 div.sk-estimator input.sk-toggleable__control:checked~label.sk-toggleable__label {background-color: #d4ebff;}#sk-container-id-2 div.sk-label input.sk-toggleable__control:checked~label.sk-toggleable__label {background-color: #d4ebff;}#sk-container-id-2 input.sk-hidden--visually {border: 0;clip: rect(1px 1px 1px 1px);clip: rect(1px, 1px, 1px, 1px);height: 1px;margin: -1px;overflow: hidden;padding: 0;position: absolute;width: 1px;}#sk-container-id-2 div.sk-estimator {font-family: monospace;background-color: #f0f8ff;border: 1px dotted black;border-radius: 0.25em;box-sizing: border-box;margin-bottom: 0.5em;}#sk-container-id-2 div.sk-estimator:hover {background-color: #d4ebff;}#sk-container-id-2 div.sk-parallel-item::after {content: \"\";width: 100%;border-bottom: 1px solid gray;flex-grow: 1;}#sk-container-id-2 div.sk-label:hover label.sk-toggleable__label {background-color: #d4ebff;}#sk-container-id-2 div.sk-serial::before {content: \"\";position: absolute;border-left: 1px solid gray;box-sizing: border-box;top: 0;bottom: 0;left: 50%;z-index: 0;}#sk-container-id-2 div.sk-serial {display: flex;flex-direction: column;align-items: center;background-color: white;padding-right: 0.2em;padding-left: 0.2em;position: relative;}#sk-container-id-2 div.sk-item {position: relative;z-index: 1;}#sk-container-id-2 div.sk-parallel {display: flex;align-items: stretch;justify-content: center;background-color: white;position: relative;}#sk-container-id-2 div.sk-item::before, #sk-container-id-2 div.sk-parallel-item::before {content: \"\";position: absolute;border-left: 1px solid gray;box-sizing: border-box;top: 0;bottom: 0;left: 50%;z-index: -1;}#sk-container-id-2 div.sk-parallel-item {display: flex;flex-direction: column;z-index: 1;position: relative;background-color: white;}#sk-container-id-2 div.sk-parallel-item:first-child::after {align-self: flex-end;width: 50%;}#sk-container-id-2 div.sk-parallel-item:last-child::after {align-self: flex-start;width: 50%;}#sk-container-id-2 div.sk-parallel-item:only-child::after {width: 0;}#sk-container-id-2 div.sk-dashed-wrapped {border: 1px dashed gray;margin: 0 0.4em 0.5em 0.4em;box-sizing: border-box;padding-bottom: 0.4em;background-color: white;}#sk-container-id-2 div.sk-label label {font-family: monospace;font-weight: bold;display: inline-block;line-height: 1.2em;}#sk-container-id-2 div.sk-label-container {text-align: center;}#sk-container-id-2 div.sk-container {/* jupyter's `normalize.less` sets `[hidden] { display: none; }` but bootstrap.min.css set `[hidden] { display: none !important; }` so we also need the `!important` here to be able to override the default hidden behavior on the sphinx rendered scikit-learn.org. See: https://github.com/scikit-learn/scikit-learn/issues/21755 */display: inline-block !important;position: relative;}#sk-container-id-2 div.sk-text-repr-fallback {display: none;}</style><div id=\"sk-container-id-2\" class=\"sk-top-container\"><div class=\"sk-text-repr-fallback\"><pre>Pipeline(steps=[(&#x27;preprocessor&#x27;,\n",
       "                 Pipeline(steps=[(&#x27;StopCodeDescription_transformer&#x27;,\n",
       "                                  GroupRareLevelsTransformer(columns=[&#x27;StopCodeDescription&#x27;],\n",
       "                                                             cut_off_percent=0.05)),\n",
       "                                 (&#x27;PropertyCategory_transformer&#x27;,\n",
       "                                  GroupRareLevelsTransformer(columns=[&#x27;PropertyCategory&#x27;],\n",
       "                                                             cut_off_percent=0.05)),\n",
       "                                 (&#x27;PropertyType_transformer&#x27;,\n",
       "                                  GroupRareLevelsTransformer(columns=[&#x27;PropertyT...\n",
       "                              grow_policy=None, importance_type=None,\n",
       "                              interaction_constraints=None, learning_rate=None,\n",
       "                              max_bin=None, max_cat_threshold=None,\n",
       "                              max_cat_to_onehot=None, max_delta_step=None,\n",
       "                              max_depth=None, max_leaves=None,\n",
       "                              min_child_weight=None, missing=nan,\n",
       "                              monotone_constraints=None, n_estimators=100,\n",
       "                              n_jobs=-1, num_parallel_tree=None,\n",
       "                              objective=&#x27;reg:squaredlogerror&#x27;, predictor=None, ...))])</pre><b>In a Jupyter environment, please rerun this cell to show the HTML representation or trust the notebook. <br />On GitHub, the HTML representation is unable to render, please try loading this page with nbviewer.org.</b></div><div class=\"sk-container\" hidden><div class=\"sk-item sk-dashed-wrapped\"><div class=\"sk-label-container\"><div class=\"sk-label sk-toggleable\"><input class=\"sk-toggleable__control sk-hidden--visually\" id=\"sk-estimator-id-18\" type=\"checkbox\" ><label for=\"sk-estimator-id-18\" class=\"sk-toggleable__label sk-toggleable__label-arrow\">Pipeline</label><div class=\"sk-toggleable__content\"><pre>Pipeline(steps=[(&#x27;preprocessor&#x27;,\n",
       "                 Pipeline(steps=[(&#x27;StopCodeDescription_transformer&#x27;,\n",
       "                                  GroupRareLevelsTransformer(columns=[&#x27;StopCodeDescription&#x27;],\n",
       "                                                             cut_off_percent=0.05)),\n",
       "                                 (&#x27;PropertyCategory_transformer&#x27;,\n",
       "                                  GroupRareLevelsTransformer(columns=[&#x27;PropertyCategory&#x27;],\n",
       "                                                             cut_off_percent=0.05)),\n",
       "                                 (&#x27;PropertyType_transformer&#x27;,\n",
       "                                  GroupRareLevelsTransformer(columns=[&#x27;PropertyT...\n",
       "                              grow_policy=None, importance_type=None,\n",
       "                              interaction_constraints=None, learning_rate=None,\n",
       "                              max_bin=None, max_cat_threshold=None,\n",
       "                              max_cat_to_onehot=None, max_delta_step=None,\n",
       "                              max_depth=None, max_leaves=None,\n",
       "                              min_child_weight=None, missing=nan,\n",
       "                              monotone_constraints=None, n_estimators=100,\n",
       "                              n_jobs=-1, num_parallel_tree=None,\n",
       "                              objective=&#x27;reg:squaredlogerror&#x27;, predictor=None, ...))])</pre></div></div></div><div class=\"sk-serial\"><div class=\"sk-item\"><div class=\"sk-label-container\"><div class=\"sk-label sk-toggleable\"><input class=\"sk-toggleable__control sk-hidden--visually\" id=\"sk-estimator-id-19\" type=\"checkbox\" ><label for=\"sk-estimator-id-19\" class=\"sk-toggleable__label sk-toggleable__label-arrow\">preprocessor: Pipeline</label><div class=\"sk-toggleable__content\"><pre>Pipeline(steps=[(&#x27;StopCodeDescription_transformer&#x27;,\n",
       "                 GroupRareLevelsTransformer(columns=[&#x27;StopCodeDescription&#x27;],\n",
       "                                            cut_off_percent=0.05)),\n",
       "                (&#x27;PropertyCategory_transformer&#x27;,\n",
       "                 GroupRareLevelsTransformer(columns=[&#x27;PropertyCategory&#x27;],\n",
       "                                            cut_off_percent=0.05)),\n",
       "                (&#x27;PropertyType_transformer&#x27;,\n",
       "                 GroupRareLevelsTransformer(columns=[&#x27;PropertyType&#x27;],\n",
       "                                            cut_off_percent=0.03)),\n",
       "                (&#x27;A...\n",
       "                 GroupRareLevelsTransformer(columns=[&#x27;IncGeo_WardName&#x27;],\n",
       "                                            cut_off_percent=0.003)),\n",
       "                (&#x27;cap_national_cost&#x27;,\n",
       "                 CappingTransformer(capping_values={&#x27;Notional Cost (£)&#x27;: [0,\n",
       "                                                                          400]})),\n",
       "                (&#x27;PartOfDay_transformer&#x27;,\n",
       "                 NominalToIntegerTransformer(columns=[&#x27;IncidentGroup&#x27;,\n",
       "                                                      &#x27;StopCodeDescription&#x27;,\n",
       "                                                      &#x27;PropertyCategory&#x27;,\n",
       "                                                      &#x27;PropertyType&#x27;,\n",
       "                                                      &#x27;AddressQualifier&#x27;,\n",
       "                                                      &#x27;ProperCase&#x27;,\n",
       "                                                      &#x27;IncGeo_WardName&#x27;,\n",
       "                                                      &#x27;PartOfDay&#x27;]))])</pre></div></div></div><div class=\"sk-serial\"><div class=\"sk-item\"><div class=\"sk-estimator sk-toggleable\"><input class=\"sk-toggleable__control sk-hidden--visually\" id=\"sk-estimator-id-20\" type=\"checkbox\" ><label for=\"sk-estimator-id-20\" class=\"sk-toggleable__label sk-toggleable__label-arrow\">GroupRareLevelsTransformer</label><div class=\"sk-toggleable__content\"><pre>GroupRareLevelsTransformer(columns=[&#x27;StopCodeDescription&#x27;],\n",
       "                           cut_off_percent=0.05)</pre></div></div></div><div class=\"sk-item\"><div class=\"sk-estimator sk-toggleable\"><input class=\"sk-toggleable__control sk-hidden--visually\" id=\"sk-estimator-id-21\" type=\"checkbox\" ><label for=\"sk-estimator-id-21\" class=\"sk-toggleable__label sk-toggleable__label-arrow\">GroupRareLevelsTransformer</label><div class=\"sk-toggleable__content\"><pre>GroupRareLevelsTransformer(columns=[&#x27;PropertyCategory&#x27;], cut_off_percent=0.05)</pre></div></div></div><div class=\"sk-item\"><div class=\"sk-estimator sk-toggleable\"><input class=\"sk-toggleable__control sk-hidden--visually\" id=\"sk-estimator-id-22\" type=\"checkbox\" ><label for=\"sk-estimator-id-22\" class=\"sk-toggleable__label sk-toggleable__label-arrow\">GroupRareLevelsTransformer</label><div class=\"sk-toggleable__content\"><pre>GroupRareLevelsTransformer(columns=[&#x27;PropertyType&#x27;], cut_off_percent=0.03)</pre></div></div></div><div class=\"sk-item\"><div class=\"sk-estimator sk-toggleable\"><input class=\"sk-toggleable__control sk-hidden--visually\" id=\"sk-estimator-id-23\" type=\"checkbox\" ><label for=\"sk-estimator-id-23\" class=\"sk-toggleable__label sk-toggleable__label-arrow\">GroupRareLevelsTransformer</label><div class=\"sk-toggleable__content\"><pre>GroupRareLevelsTransformer(columns=[&#x27;AddressQualifier&#x27;], cut_off_percent=0.05)</pre></div></div></div><div class=\"sk-item\"><div class=\"sk-estimator sk-toggleable\"><input class=\"sk-toggleable__control sk-hidden--visually\" id=\"sk-estimator-id-24\" type=\"checkbox\" ><label for=\"sk-estimator-id-24\" class=\"sk-toggleable__label sk-toggleable__label-arrow\">GroupRareLevelsTransformer</label><div class=\"sk-toggleable__content\"><pre>GroupRareLevelsTransformer(columns=[&#x27;IncGeo_WardName&#x27;], cut_off_percent=0.003)</pre></div></div></div><div class=\"sk-item\"><div class=\"sk-estimator sk-toggleable\"><input class=\"sk-toggleable__control sk-hidden--visually\" id=\"sk-estimator-id-25\" type=\"checkbox\" ><label for=\"sk-estimator-id-25\" class=\"sk-toggleable__label sk-toggleable__label-arrow\">CappingTransformer</label><div class=\"sk-toggleable__content\"><pre>CappingTransformer(capping_values={&#x27;Notional Cost (£)&#x27;: [0, 400]})</pre></div></div></div><div class=\"sk-item\"><div class=\"sk-estimator sk-toggleable\"><input class=\"sk-toggleable__control sk-hidden--visually\" id=\"sk-estimator-id-26\" type=\"checkbox\" ><label for=\"sk-estimator-id-26\" class=\"sk-toggleable__label sk-toggleable__label-arrow\">NominalToIntegerTransformer</label><div class=\"sk-toggleable__content\"><pre>NominalToIntegerTransformer(columns=[&#x27;IncidentGroup&#x27;, &#x27;StopCodeDescription&#x27;,\n",
       "                                     &#x27;PropertyCategory&#x27;, &#x27;PropertyType&#x27;,\n",
       "                                     &#x27;AddressQualifier&#x27;, &#x27;ProperCase&#x27;,\n",
       "                                     &#x27;IncGeo_WardName&#x27;, &#x27;PartOfDay&#x27;])</pre></div></div></div></div></div><div class=\"sk-item sk-dashed-wrapped\"><div class=\"sk-label-container\"><div class=\"sk-label sk-toggleable\"><input class=\"sk-toggleable__control sk-hidden--visually\" id=\"sk-estimator-id-27\" type=\"checkbox\" ><label for=\"sk-estimator-id-27\" class=\"sk-toggleable__label sk-toggleable__label-arrow\">col_transformers: ColumnTransformer</label><div class=\"sk-toggleable__content\"><pre>ColumnTransformer(remainder=&#x27;passthrough&#x27;,\n",
       "                  transformers=[(&#x27;numerical&#x27;,\n",
       "                                 Pipeline(steps=[(&#x27;imputer&#x27;,\n",
       "                                                  SimpleImputer(strategy=&#x27;median&#x27;))]),\n",
       "                                 [&#x27;HourOfCall&#x27;, &#x27;NumStationsWithPumpsAttending&#x27;,\n",
       "                                  &#x27;NumPumpsAttending&#x27;, &#x27;Notional Cost (£)&#x27;,\n",
       "                                  &#x27;NumCalls&#x27;, &#x27;DateOfCall_Month&#x27;]),\n",
       "                                (&#x27;categorical&#x27;,\n",
       "                                 Pipeline(steps=[(&#x27;imputer&#x27;,\n",
       "                                                  SimpleImputer(strategy=&#x27;most_frequent&#x27;))]),\n",
       "                                 [&#x27;IncidentGroup&#x27;, &#x27;StopCodeDescription&#x27;,\n",
       "                                  &#x27;PropertyCategory&#x27;, &#x27;PropertyType&#x27;,\n",
       "                                  &#x27;AddressQualifier&#x27;, &#x27;ProperCase&#x27;,\n",
       "                                  &#x27;IncGeo_WardName&#x27;, &#x27;PartOfDay&#x27;])])</pre></div></div></div><div class=\"sk-parallel\"><div class=\"sk-parallel-item\"><div class=\"sk-item\"><div class=\"sk-label-container\"><div class=\"sk-label sk-toggleable\"><input class=\"sk-toggleable__control sk-hidden--visually\" id=\"sk-estimator-id-28\" type=\"checkbox\" ><label for=\"sk-estimator-id-28\" class=\"sk-toggleable__label sk-toggleable__label-arrow\">numerical</label><div class=\"sk-toggleable__content\"><pre>[&#x27;HourOfCall&#x27;, &#x27;NumStationsWithPumpsAttending&#x27;, &#x27;NumPumpsAttending&#x27;, &#x27;Notional Cost (£)&#x27;, &#x27;NumCalls&#x27;, &#x27;DateOfCall_Month&#x27;]</pre></div></div></div><div class=\"sk-serial\"><div class=\"sk-item\"><div class=\"sk-serial\"><div class=\"sk-item\"><div class=\"sk-estimator sk-toggleable\"><input class=\"sk-toggleable__control sk-hidden--visually\" id=\"sk-estimator-id-29\" type=\"checkbox\" ><label for=\"sk-estimator-id-29\" class=\"sk-toggleable__label sk-toggleable__label-arrow\">SimpleImputer</label><div class=\"sk-toggleable__content\"><pre>SimpleImputer(strategy=&#x27;median&#x27;)</pre></div></div></div></div></div></div></div></div><div class=\"sk-parallel-item\"><div class=\"sk-item\"><div class=\"sk-label-container\"><div class=\"sk-label sk-toggleable\"><input class=\"sk-toggleable__control sk-hidden--visually\" id=\"sk-estimator-id-30\" type=\"checkbox\" ><label for=\"sk-estimator-id-30\" class=\"sk-toggleable__label sk-toggleable__label-arrow\">categorical</label><div class=\"sk-toggleable__content\"><pre>[&#x27;IncidentGroup&#x27;, &#x27;StopCodeDescription&#x27;, &#x27;PropertyCategory&#x27;, &#x27;PropertyType&#x27;, &#x27;AddressQualifier&#x27;, &#x27;ProperCase&#x27;, &#x27;IncGeo_WardName&#x27;, &#x27;PartOfDay&#x27;]</pre></div></div></div><div class=\"sk-serial\"><div class=\"sk-item\"><div class=\"sk-serial\"><div class=\"sk-item\"><div class=\"sk-estimator sk-toggleable\"><input class=\"sk-toggleable__control sk-hidden--visually\" id=\"sk-estimator-id-31\" type=\"checkbox\" ><label for=\"sk-estimator-id-31\" class=\"sk-toggleable__label sk-toggleable__label-arrow\">SimpleImputer</label><div class=\"sk-toggleable__content\"><pre>SimpleImputer(strategy=&#x27;most_frequent&#x27;)</pre></div></div></div></div></div></div></div></div><div class=\"sk-parallel-item\"><div class=\"sk-item\"><div class=\"sk-label-container\"><div class=\"sk-label sk-toggleable\"><input class=\"sk-toggleable__control sk-hidden--visually\" id=\"sk-estimator-id-32\" type=\"checkbox\" ><label for=\"sk-estimator-id-32\" class=\"sk-toggleable__label sk-toggleable__label-arrow\">remainder</label><div class=\"sk-toggleable__content\"><pre>[]</pre></div></div></div><div class=\"sk-serial\"><div class=\"sk-item\"><div class=\"sk-estimator sk-toggleable\"><input class=\"sk-toggleable__control sk-hidden--visually\" id=\"sk-estimator-id-33\" type=\"checkbox\" ><label for=\"sk-estimator-id-33\" class=\"sk-toggleable__label sk-toggleable__label-arrow\">passthrough</label><div class=\"sk-toggleable__content\"><pre>passthrough</pre></div></div></div></div></div></div></div></div><div class=\"sk-item\"><div class=\"sk-estimator sk-toggleable\"><input class=\"sk-toggleable__control sk-hidden--visually\" id=\"sk-estimator-id-34\" type=\"checkbox\" ><label for=\"sk-estimator-id-34\" class=\"sk-toggleable__label sk-toggleable__label-arrow\">XGBRegressor</label><div class=\"sk-toggleable__content\"><pre>XGBRegressor(base_score=None, booster=None, callbacks=None,\n",
       "             colsample_bylevel=None, colsample_bynode=None,\n",
       "             colsample_bytree=None, early_stopping_rounds=None,\n",
       "             enable_categorical=False, eval_metric=None, feature_types=None,\n",
       "             gamma=None, gpu_id=None, grow_policy=None, importance_type=None,\n",
       "             interaction_constraints=None, learning_rate=None, max_bin=None,\n",
       "             max_cat_threshold=None, max_cat_to_onehot=None,\n",
       "             max_delta_step=None, max_depth=None, max_leaves=None,\n",
       "             min_child_weight=None, missing=nan, monotone_constraints=None,\n",
       "             n_estimators=100, n_jobs=-1, num_parallel_tree=None,\n",
       "             objective=&#x27;reg:squaredlogerror&#x27;, predictor=None, ...)</pre></div></div></div></div></div></div></div>"
      ],
      "text/plain": [
       "Pipeline(steps=[('preprocessor',\n",
       "                 Pipeline(steps=[('StopCodeDescription_transformer',\n",
       "                                  GroupRareLevelsTransformer(columns=['StopCodeDescription'],\n",
       "                                                             cut_off_percent=0.05)),\n",
       "                                 ('PropertyCategory_transformer',\n",
       "                                  GroupRareLevelsTransformer(columns=['PropertyCategory'],\n",
       "                                                             cut_off_percent=0.05)),\n",
       "                                 ('PropertyType_transformer',\n",
       "                                  GroupRareLevelsTransformer(columns=['PropertyT...\n",
       "                              grow_policy=None, importance_type=None,\n",
       "                              interaction_constraints=None, learning_rate=None,\n",
       "                              max_bin=None, max_cat_threshold=None,\n",
       "                              max_cat_to_onehot=None, max_delta_step=None,\n",
       "                              max_depth=None, max_leaves=None,\n",
       "                              min_child_weight=None, missing=nan,\n",
       "                              monotone_constraints=None, n_estimators=100,\n",
       "                              n_jobs=-1, num_parallel_tree=None,\n",
       "                              objective='reg:squaredlogerror', predictor=None, ...))])"
      ]
     },
     "execution_count": 18,
     "metadata": {},
     "output_type": "execute_result"
    }
   ],
   "source": [
    "xgboost"
   ]
  },
  {
   "cell_type": "code",
   "execution_count": 19,
   "id": "fcc4d243",
   "metadata": {},
   "outputs": [
    {
     "name": "stdout",
     "output_type": "stream",
     "text": [
      "Mean Squared Error: 4.378836288252495\n",
      "Mean Absolute Error: 1.481273278439762\n",
      "Root Mean Squared Error: 2.0925669136857956\n"
     ]
    }
   ],
   "source": [
    "predict_model(trained_model=xgboost,\n",
    "              xtest=X_test,\n",
    "              ytest=y_test)"
   ]
  },
  {
   "cell_type": "markdown",
   "id": "1947c28c",
   "metadata": {},
   "source": [
    "## RandomForest"
   ]
  },
  {
   "cell_type": "code",
   "execution_count": 20,
   "id": "a5efc8af",
   "metadata": {},
   "outputs": [],
   "source": [
    "pipe_rf = get_pipeline(num_features=num_features,\n",
    "                       cat_features=cat_features,\n",
    "                       algorithm='rf',\n",
    "                       use_grid_search=False)"
   ]
  },
  {
   "cell_type": "code",
   "execution_count": 21,
   "id": "ea71a019",
   "metadata": {},
   "outputs": [],
   "source": [
    "rf = train_model(pipeline=pipe_rf,\n",
    "                 xtrain=X_train,\n",
    "                 ytrain=y_train)"
   ]
  },
  {
   "cell_type": "code",
   "execution_count": 22,
   "id": "0c965914",
   "metadata": {},
   "outputs": [
    {
     "data": {
      "text/html": [
       "<style>#sk-container-id-3 {color: black;background-color: white;}#sk-container-id-3 pre{padding: 0;}#sk-container-id-3 div.sk-toggleable {background-color: white;}#sk-container-id-3 label.sk-toggleable__label {cursor: pointer;display: block;width: 100%;margin-bottom: 0;padding: 0.3em;box-sizing: border-box;text-align: center;}#sk-container-id-3 label.sk-toggleable__label-arrow:before {content: \"▸\";float: left;margin-right: 0.25em;color: #696969;}#sk-container-id-3 label.sk-toggleable__label-arrow:hover:before {color: black;}#sk-container-id-3 div.sk-estimator:hover label.sk-toggleable__label-arrow:before {color: black;}#sk-container-id-3 div.sk-toggleable__content {max-height: 0;max-width: 0;overflow: hidden;text-align: left;background-color: #f0f8ff;}#sk-container-id-3 div.sk-toggleable__content pre {margin: 0.2em;color: black;border-radius: 0.25em;background-color: #f0f8ff;}#sk-container-id-3 input.sk-toggleable__control:checked~div.sk-toggleable__content {max-height: 200px;max-width: 100%;overflow: auto;}#sk-container-id-3 input.sk-toggleable__control:checked~label.sk-toggleable__label-arrow:before {content: \"▾\";}#sk-container-id-3 div.sk-estimator input.sk-toggleable__control:checked~label.sk-toggleable__label {background-color: #d4ebff;}#sk-container-id-3 div.sk-label input.sk-toggleable__control:checked~label.sk-toggleable__label {background-color: #d4ebff;}#sk-container-id-3 input.sk-hidden--visually {border: 0;clip: rect(1px 1px 1px 1px);clip: rect(1px, 1px, 1px, 1px);height: 1px;margin: -1px;overflow: hidden;padding: 0;position: absolute;width: 1px;}#sk-container-id-3 div.sk-estimator {font-family: monospace;background-color: #f0f8ff;border: 1px dotted black;border-radius: 0.25em;box-sizing: border-box;margin-bottom: 0.5em;}#sk-container-id-3 div.sk-estimator:hover {background-color: #d4ebff;}#sk-container-id-3 div.sk-parallel-item::after {content: \"\";width: 100%;border-bottom: 1px solid gray;flex-grow: 1;}#sk-container-id-3 div.sk-label:hover label.sk-toggleable__label {background-color: #d4ebff;}#sk-container-id-3 div.sk-serial::before {content: \"\";position: absolute;border-left: 1px solid gray;box-sizing: border-box;top: 0;bottom: 0;left: 50%;z-index: 0;}#sk-container-id-3 div.sk-serial {display: flex;flex-direction: column;align-items: center;background-color: white;padding-right: 0.2em;padding-left: 0.2em;position: relative;}#sk-container-id-3 div.sk-item {position: relative;z-index: 1;}#sk-container-id-3 div.sk-parallel {display: flex;align-items: stretch;justify-content: center;background-color: white;position: relative;}#sk-container-id-3 div.sk-item::before, #sk-container-id-3 div.sk-parallel-item::before {content: \"\";position: absolute;border-left: 1px solid gray;box-sizing: border-box;top: 0;bottom: 0;left: 50%;z-index: -1;}#sk-container-id-3 div.sk-parallel-item {display: flex;flex-direction: column;z-index: 1;position: relative;background-color: white;}#sk-container-id-3 div.sk-parallel-item:first-child::after {align-self: flex-end;width: 50%;}#sk-container-id-3 div.sk-parallel-item:last-child::after {align-self: flex-start;width: 50%;}#sk-container-id-3 div.sk-parallel-item:only-child::after {width: 0;}#sk-container-id-3 div.sk-dashed-wrapped {border: 1px dashed gray;margin: 0 0.4em 0.5em 0.4em;box-sizing: border-box;padding-bottom: 0.4em;background-color: white;}#sk-container-id-3 div.sk-label label {font-family: monospace;font-weight: bold;display: inline-block;line-height: 1.2em;}#sk-container-id-3 div.sk-label-container {text-align: center;}#sk-container-id-3 div.sk-container {/* jupyter's `normalize.less` sets `[hidden] { display: none; }` but bootstrap.min.css set `[hidden] { display: none !important; }` so we also need the `!important` here to be able to override the default hidden behavior on the sphinx rendered scikit-learn.org. See: https://github.com/scikit-learn/scikit-learn/issues/21755 */display: inline-block !important;position: relative;}#sk-container-id-3 div.sk-text-repr-fallback {display: none;}</style><div id=\"sk-container-id-3\" class=\"sk-top-container\"><div class=\"sk-text-repr-fallback\"><pre>Pipeline(steps=[(&#x27;preprocessor&#x27;,\n",
       "                 Pipeline(steps=[(&#x27;StopCodeDescription_transformer&#x27;,\n",
       "                                  GroupRareLevelsTransformer(columns=[&#x27;StopCodeDescription&#x27;],\n",
       "                                                             cut_off_percent=0.05)),\n",
       "                                 (&#x27;PropertyCategory_transformer&#x27;,\n",
       "                                  GroupRareLevelsTransformer(columns=[&#x27;PropertyCategory&#x27;],\n",
       "                                                             cut_off_percent=0.05)),\n",
       "                                 (&#x27;PropertyType_transformer&#x27;,\n",
       "                                  GroupRareLevelsTransformer(columns=[&#x27;PropertyT...\n",
       "                                                   &#x27;NumPumpsAttending&#x27;,\n",
       "                                                   &#x27;Notional Cost (£)&#x27;,\n",
       "                                                   &#x27;NumCalls&#x27;,\n",
       "                                                   &#x27;DateOfCall_Month&#x27;]),\n",
       "                                                 (&#x27;categorical&#x27;,\n",
       "                                                  Pipeline(steps=[(&#x27;imputer&#x27;,\n",
       "                                                                   SimpleImputer(strategy=&#x27;most_frequent&#x27;))]),\n",
       "                                                  [&#x27;IncidentGroup&#x27;,\n",
       "                                                   &#x27;StopCodeDescription&#x27;,\n",
       "                                                   &#x27;PropertyCategory&#x27;,\n",
       "                                                   &#x27;PropertyType&#x27;,\n",
       "                                                   &#x27;AddressQualifier&#x27;,\n",
       "                                                   &#x27;ProperCase&#x27;,\n",
       "                                                   &#x27;IncGeo_WardName&#x27;,\n",
       "                                                   &#x27;PartOfDay&#x27;])])),\n",
       "                (&#x27;estimator&#x27;,\n",
       "                 RandomForestRegressor(n_jobs=-1, random_state=24))])</pre><b>In a Jupyter environment, please rerun this cell to show the HTML representation or trust the notebook. <br />On GitHub, the HTML representation is unable to render, please try loading this page with nbviewer.org.</b></div><div class=\"sk-container\" hidden><div class=\"sk-item sk-dashed-wrapped\"><div class=\"sk-label-container\"><div class=\"sk-label sk-toggleable\"><input class=\"sk-toggleable__control sk-hidden--visually\" id=\"sk-estimator-id-35\" type=\"checkbox\" ><label for=\"sk-estimator-id-35\" class=\"sk-toggleable__label sk-toggleable__label-arrow\">Pipeline</label><div class=\"sk-toggleable__content\"><pre>Pipeline(steps=[(&#x27;preprocessor&#x27;,\n",
       "                 Pipeline(steps=[(&#x27;StopCodeDescription_transformer&#x27;,\n",
       "                                  GroupRareLevelsTransformer(columns=[&#x27;StopCodeDescription&#x27;],\n",
       "                                                             cut_off_percent=0.05)),\n",
       "                                 (&#x27;PropertyCategory_transformer&#x27;,\n",
       "                                  GroupRareLevelsTransformer(columns=[&#x27;PropertyCategory&#x27;],\n",
       "                                                             cut_off_percent=0.05)),\n",
       "                                 (&#x27;PropertyType_transformer&#x27;,\n",
       "                                  GroupRareLevelsTransformer(columns=[&#x27;PropertyT...\n",
       "                                                   &#x27;NumPumpsAttending&#x27;,\n",
       "                                                   &#x27;Notional Cost (£)&#x27;,\n",
       "                                                   &#x27;NumCalls&#x27;,\n",
       "                                                   &#x27;DateOfCall_Month&#x27;]),\n",
       "                                                 (&#x27;categorical&#x27;,\n",
       "                                                  Pipeline(steps=[(&#x27;imputer&#x27;,\n",
       "                                                                   SimpleImputer(strategy=&#x27;most_frequent&#x27;))]),\n",
       "                                                  [&#x27;IncidentGroup&#x27;,\n",
       "                                                   &#x27;StopCodeDescription&#x27;,\n",
       "                                                   &#x27;PropertyCategory&#x27;,\n",
       "                                                   &#x27;PropertyType&#x27;,\n",
       "                                                   &#x27;AddressQualifier&#x27;,\n",
       "                                                   &#x27;ProperCase&#x27;,\n",
       "                                                   &#x27;IncGeo_WardName&#x27;,\n",
       "                                                   &#x27;PartOfDay&#x27;])])),\n",
       "                (&#x27;estimator&#x27;,\n",
       "                 RandomForestRegressor(n_jobs=-1, random_state=24))])</pre></div></div></div><div class=\"sk-serial\"><div class=\"sk-item\"><div class=\"sk-label-container\"><div class=\"sk-label sk-toggleable\"><input class=\"sk-toggleable__control sk-hidden--visually\" id=\"sk-estimator-id-36\" type=\"checkbox\" ><label for=\"sk-estimator-id-36\" class=\"sk-toggleable__label sk-toggleable__label-arrow\">preprocessor: Pipeline</label><div class=\"sk-toggleable__content\"><pre>Pipeline(steps=[(&#x27;StopCodeDescription_transformer&#x27;,\n",
       "                 GroupRareLevelsTransformer(columns=[&#x27;StopCodeDescription&#x27;],\n",
       "                                            cut_off_percent=0.05)),\n",
       "                (&#x27;PropertyCategory_transformer&#x27;,\n",
       "                 GroupRareLevelsTransformer(columns=[&#x27;PropertyCategory&#x27;],\n",
       "                                            cut_off_percent=0.05)),\n",
       "                (&#x27;PropertyType_transformer&#x27;,\n",
       "                 GroupRareLevelsTransformer(columns=[&#x27;PropertyType&#x27;],\n",
       "                                            cut_off_percent=0.03)),\n",
       "                (&#x27;A...\n",
       "                 GroupRareLevelsTransformer(columns=[&#x27;IncGeo_WardName&#x27;],\n",
       "                                            cut_off_percent=0.003)),\n",
       "                (&#x27;cap_national_cost&#x27;,\n",
       "                 CappingTransformer(capping_values={&#x27;Notional Cost (£)&#x27;: [0,\n",
       "                                                                          400]})),\n",
       "                (&#x27;PartOfDay_transformer&#x27;,\n",
       "                 NominalToIntegerTransformer(columns=[&#x27;IncidentGroup&#x27;,\n",
       "                                                      &#x27;StopCodeDescription&#x27;,\n",
       "                                                      &#x27;PropertyCategory&#x27;,\n",
       "                                                      &#x27;PropertyType&#x27;,\n",
       "                                                      &#x27;AddressQualifier&#x27;,\n",
       "                                                      &#x27;ProperCase&#x27;,\n",
       "                                                      &#x27;IncGeo_WardName&#x27;,\n",
       "                                                      &#x27;PartOfDay&#x27;]))])</pre></div></div></div><div class=\"sk-serial\"><div class=\"sk-item\"><div class=\"sk-estimator sk-toggleable\"><input class=\"sk-toggleable__control sk-hidden--visually\" id=\"sk-estimator-id-37\" type=\"checkbox\" ><label for=\"sk-estimator-id-37\" class=\"sk-toggleable__label sk-toggleable__label-arrow\">GroupRareLevelsTransformer</label><div class=\"sk-toggleable__content\"><pre>GroupRareLevelsTransformer(columns=[&#x27;StopCodeDescription&#x27;],\n",
       "                           cut_off_percent=0.05)</pre></div></div></div><div class=\"sk-item\"><div class=\"sk-estimator sk-toggleable\"><input class=\"sk-toggleable__control sk-hidden--visually\" id=\"sk-estimator-id-38\" type=\"checkbox\" ><label for=\"sk-estimator-id-38\" class=\"sk-toggleable__label sk-toggleable__label-arrow\">GroupRareLevelsTransformer</label><div class=\"sk-toggleable__content\"><pre>GroupRareLevelsTransformer(columns=[&#x27;PropertyCategory&#x27;], cut_off_percent=0.05)</pre></div></div></div><div class=\"sk-item\"><div class=\"sk-estimator sk-toggleable\"><input class=\"sk-toggleable__control sk-hidden--visually\" id=\"sk-estimator-id-39\" type=\"checkbox\" ><label for=\"sk-estimator-id-39\" class=\"sk-toggleable__label sk-toggleable__label-arrow\">GroupRareLevelsTransformer</label><div class=\"sk-toggleable__content\"><pre>GroupRareLevelsTransformer(columns=[&#x27;PropertyType&#x27;], cut_off_percent=0.03)</pre></div></div></div><div class=\"sk-item\"><div class=\"sk-estimator sk-toggleable\"><input class=\"sk-toggleable__control sk-hidden--visually\" id=\"sk-estimator-id-40\" type=\"checkbox\" ><label for=\"sk-estimator-id-40\" class=\"sk-toggleable__label sk-toggleable__label-arrow\">GroupRareLevelsTransformer</label><div class=\"sk-toggleable__content\"><pre>GroupRareLevelsTransformer(columns=[&#x27;AddressQualifier&#x27;], cut_off_percent=0.05)</pre></div></div></div><div class=\"sk-item\"><div class=\"sk-estimator sk-toggleable\"><input class=\"sk-toggleable__control sk-hidden--visually\" id=\"sk-estimator-id-41\" type=\"checkbox\" ><label for=\"sk-estimator-id-41\" class=\"sk-toggleable__label sk-toggleable__label-arrow\">GroupRareLevelsTransformer</label><div class=\"sk-toggleable__content\"><pre>GroupRareLevelsTransformer(columns=[&#x27;IncGeo_WardName&#x27;], cut_off_percent=0.003)</pre></div></div></div><div class=\"sk-item\"><div class=\"sk-estimator sk-toggleable\"><input class=\"sk-toggleable__control sk-hidden--visually\" id=\"sk-estimator-id-42\" type=\"checkbox\" ><label for=\"sk-estimator-id-42\" class=\"sk-toggleable__label sk-toggleable__label-arrow\">CappingTransformer</label><div class=\"sk-toggleable__content\"><pre>CappingTransformer(capping_values={&#x27;Notional Cost (£)&#x27;: [0, 400]})</pre></div></div></div><div class=\"sk-item\"><div class=\"sk-estimator sk-toggleable\"><input class=\"sk-toggleable__control sk-hidden--visually\" id=\"sk-estimator-id-43\" type=\"checkbox\" ><label for=\"sk-estimator-id-43\" class=\"sk-toggleable__label sk-toggleable__label-arrow\">NominalToIntegerTransformer</label><div class=\"sk-toggleable__content\"><pre>NominalToIntegerTransformer(columns=[&#x27;IncidentGroup&#x27;, &#x27;StopCodeDescription&#x27;,\n",
       "                                     &#x27;PropertyCategory&#x27;, &#x27;PropertyType&#x27;,\n",
       "                                     &#x27;AddressQualifier&#x27;, &#x27;ProperCase&#x27;,\n",
       "                                     &#x27;IncGeo_WardName&#x27;, &#x27;PartOfDay&#x27;])</pre></div></div></div></div></div><div class=\"sk-item sk-dashed-wrapped\"><div class=\"sk-label-container\"><div class=\"sk-label sk-toggleable\"><input class=\"sk-toggleable__control sk-hidden--visually\" id=\"sk-estimator-id-44\" type=\"checkbox\" ><label for=\"sk-estimator-id-44\" class=\"sk-toggleable__label sk-toggleable__label-arrow\">col_transformers: ColumnTransformer</label><div class=\"sk-toggleable__content\"><pre>ColumnTransformer(remainder=&#x27;passthrough&#x27;,\n",
       "                  transformers=[(&#x27;numerical&#x27;,\n",
       "                                 Pipeline(steps=[(&#x27;imputer&#x27;,\n",
       "                                                  SimpleImputer(strategy=&#x27;median&#x27;))]),\n",
       "                                 [&#x27;HourOfCall&#x27;, &#x27;NumStationsWithPumpsAttending&#x27;,\n",
       "                                  &#x27;NumPumpsAttending&#x27;, &#x27;Notional Cost (£)&#x27;,\n",
       "                                  &#x27;NumCalls&#x27;, &#x27;DateOfCall_Month&#x27;]),\n",
       "                                (&#x27;categorical&#x27;,\n",
       "                                 Pipeline(steps=[(&#x27;imputer&#x27;,\n",
       "                                                  SimpleImputer(strategy=&#x27;most_frequent&#x27;))]),\n",
       "                                 [&#x27;IncidentGroup&#x27;, &#x27;StopCodeDescription&#x27;,\n",
       "                                  &#x27;PropertyCategory&#x27;, &#x27;PropertyType&#x27;,\n",
       "                                  &#x27;AddressQualifier&#x27;, &#x27;ProperCase&#x27;,\n",
       "                                  &#x27;IncGeo_WardName&#x27;, &#x27;PartOfDay&#x27;])])</pre></div></div></div><div class=\"sk-parallel\"><div class=\"sk-parallel-item\"><div class=\"sk-item\"><div class=\"sk-label-container\"><div class=\"sk-label sk-toggleable\"><input class=\"sk-toggleable__control sk-hidden--visually\" id=\"sk-estimator-id-45\" type=\"checkbox\" ><label for=\"sk-estimator-id-45\" class=\"sk-toggleable__label sk-toggleable__label-arrow\">numerical</label><div class=\"sk-toggleable__content\"><pre>[&#x27;HourOfCall&#x27;, &#x27;NumStationsWithPumpsAttending&#x27;, &#x27;NumPumpsAttending&#x27;, &#x27;Notional Cost (£)&#x27;, &#x27;NumCalls&#x27;, &#x27;DateOfCall_Month&#x27;]</pre></div></div></div><div class=\"sk-serial\"><div class=\"sk-item\"><div class=\"sk-serial\"><div class=\"sk-item\"><div class=\"sk-estimator sk-toggleable\"><input class=\"sk-toggleable__control sk-hidden--visually\" id=\"sk-estimator-id-46\" type=\"checkbox\" ><label for=\"sk-estimator-id-46\" class=\"sk-toggleable__label sk-toggleable__label-arrow\">SimpleImputer</label><div class=\"sk-toggleable__content\"><pre>SimpleImputer(strategy=&#x27;median&#x27;)</pre></div></div></div></div></div></div></div></div><div class=\"sk-parallel-item\"><div class=\"sk-item\"><div class=\"sk-label-container\"><div class=\"sk-label sk-toggleable\"><input class=\"sk-toggleable__control sk-hidden--visually\" id=\"sk-estimator-id-47\" type=\"checkbox\" ><label for=\"sk-estimator-id-47\" class=\"sk-toggleable__label sk-toggleable__label-arrow\">categorical</label><div class=\"sk-toggleable__content\"><pre>[&#x27;IncidentGroup&#x27;, &#x27;StopCodeDescription&#x27;, &#x27;PropertyCategory&#x27;, &#x27;PropertyType&#x27;, &#x27;AddressQualifier&#x27;, &#x27;ProperCase&#x27;, &#x27;IncGeo_WardName&#x27;, &#x27;PartOfDay&#x27;]</pre></div></div></div><div class=\"sk-serial\"><div class=\"sk-item\"><div class=\"sk-serial\"><div class=\"sk-item\"><div class=\"sk-estimator sk-toggleable\"><input class=\"sk-toggleable__control sk-hidden--visually\" id=\"sk-estimator-id-48\" type=\"checkbox\" ><label for=\"sk-estimator-id-48\" class=\"sk-toggleable__label sk-toggleable__label-arrow\">SimpleImputer</label><div class=\"sk-toggleable__content\"><pre>SimpleImputer(strategy=&#x27;most_frequent&#x27;)</pre></div></div></div></div></div></div></div></div><div class=\"sk-parallel-item\"><div class=\"sk-item\"><div class=\"sk-label-container\"><div class=\"sk-label sk-toggleable\"><input class=\"sk-toggleable__control sk-hidden--visually\" id=\"sk-estimator-id-49\" type=\"checkbox\" ><label for=\"sk-estimator-id-49\" class=\"sk-toggleable__label sk-toggleable__label-arrow\">remainder</label><div class=\"sk-toggleable__content\"><pre>[]</pre></div></div></div><div class=\"sk-serial\"><div class=\"sk-item\"><div class=\"sk-estimator sk-toggleable\"><input class=\"sk-toggleable__control sk-hidden--visually\" id=\"sk-estimator-id-50\" type=\"checkbox\" ><label for=\"sk-estimator-id-50\" class=\"sk-toggleable__label sk-toggleable__label-arrow\">passthrough</label><div class=\"sk-toggleable__content\"><pre>passthrough</pre></div></div></div></div></div></div></div></div><div class=\"sk-item\"><div class=\"sk-estimator sk-toggleable\"><input class=\"sk-toggleable__control sk-hidden--visually\" id=\"sk-estimator-id-51\" type=\"checkbox\" ><label for=\"sk-estimator-id-51\" class=\"sk-toggleable__label sk-toggleable__label-arrow\">RandomForestRegressor</label><div class=\"sk-toggleable__content\"><pre>RandomForestRegressor(n_jobs=-1, random_state=24)</pre></div></div></div></div></div></div></div>"
      ],
      "text/plain": [
       "Pipeline(steps=[('preprocessor',\n",
       "                 Pipeline(steps=[('StopCodeDescription_transformer',\n",
       "                                  GroupRareLevelsTransformer(columns=['StopCodeDescription'],\n",
       "                                                             cut_off_percent=0.05)),\n",
       "                                 ('PropertyCategory_transformer',\n",
       "                                  GroupRareLevelsTransformer(columns=['PropertyCategory'],\n",
       "                                                             cut_off_percent=0.05)),\n",
       "                                 ('PropertyType_transformer',\n",
       "                                  GroupRareLevelsTransformer(columns=['PropertyT...\n",
       "                                                   'NumPumpsAttending',\n",
       "                                                   'Notional Cost (£)',\n",
       "                                                   'NumCalls',\n",
       "                                                   'DateOfCall_Month']),\n",
       "                                                 ('categorical',\n",
       "                                                  Pipeline(steps=[('imputer',\n",
       "                                                                   SimpleImputer(strategy='most_frequent'))]),\n",
       "                                                  ['IncidentGroup',\n",
       "                                                   'StopCodeDescription',\n",
       "                                                   'PropertyCategory',\n",
       "                                                   'PropertyType',\n",
       "                                                   'AddressQualifier',\n",
       "                                                   'ProperCase',\n",
       "                                                   'IncGeo_WardName',\n",
       "                                                   'PartOfDay'])])),\n",
       "                ('estimator',\n",
       "                 RandomForestRegressor(n_jobs=-1, random_state=24))])"
      ]
     },
     "execution_count": 22,
     "metadata": {},
     "output_type": "execute_result"
    }
   ],
   "source": [
    "rf"
   ]
  },
  {
   "cell_type": "code",
   "execution_count": 23,
   "id": "5f257398",
   "metadata": {},
   "outputs": [
    {
     "name": "stdout",
     "output_type": "stream",
     "text": [
      "Mean Squared Error: 4.803707083318959\n",
      "Mean Absolute Error: 1.6009857058672816\n",
      "Root Mean Squared Error: 2.1917360888845536\n"
     ]
    }
   ],
   "source": [
    "predict_model(trained_model=rf,\n",
    "              xtest=X_test,\n",
    "              ytest=y_test)"
   ]
  },
  {
   "cell_type": "markdown",
   "id": "6bb351ab",
   "metadata": {},
   "source": [
    "## Conclusion\n",
    "\n",
    "The LightGBM algorithm is chosen since it has the best model performance. However, the results can be further improved by tuning the HPs."
   ]
  },
  {
   "cell_type": "code",
   "execution_count": 18,
   "id": "c81cb84f",
   "metadata": {},
   "outputs": [],
   "source": [
    "import matplotlib.pyplot as plt\n",
    "\n",
    "def feature_imp(model, train_model, lim=None):\n",
    "    \"\"\"Takes the model and gives out the feuture importance plot \n",
    "    \n",
    "    Parameters: \n",
    "    model: the fitted model\n",
    "    train_model: this the training data frame without the target feature\n",
    "    lim: the number of features to be considered for the generation of feature importance plot\n",
    "    \n",
    "    Returns:\n",
    "    Feature importance plot\n",
    "    \"\"\"\n",
    "    predictors = [x for x in train_model.columns]\n",
    "    temp = pd.Series(model.feature_importances_, predictors).sort_values(\n",
    "        ascending=False\n",
    "    )\n",
    "    if lim is None:\n",
    "        lim = train_model.shape[1]\n",
    "    temp.nlargest(lim).plot(kind='barh', figsize=(14,12))\n",
    "    \n",
    "    plt.title('Feature Importance Score')"
   ]
  },
  {
   "cell_type": "code",
   "execution_count": 19,
   "id": "3e524323",
   "metadata": {},
   "outputs": [],
   "source": [
    "features_order = num_features + cat_features"
   ]
  },
  {
   "cell_type": "code",
   "execution_count": 20,
   "id": "aa2316c8",
   "metadata": {},
   "outputs": [
    {
     "data": {
      "image/png": "[encoded data removed]",
      "text/plain": [
       "<Figure size 1400x1200 with 1 Axes>"
      ]
     },
     "metadata": {},
     "output_type": "display_data"
    }
   ],
   "source": [
    "feature_imp(pipe._final_estimator, X_train[features_order])"
   ]
  },
  {
   "cell_type": "code",
   "execution_count": null,
   "id": "b6e97b11",
   "metadata": {},
   "outputs": [],
   "source": []
  }
 ],
 "metadata": {
  "kernelspec": {
   "display_name": "mlops",
   "language": "python",
   "name": "mlops"
  },
  "language_info": {
   "codemirror_mode": {
    "name": "ipython",
    "version": 3
   },
   "file_extension": ".py",
   "mimetype": "text/x-python",
   "name": "python",
   "nbconvert_exporter": "python",
   "pygments_lexer": "ipython3",
   "version": "3.10.4"
  }
 },
 "nbformat": 4,
 "nbformat_minor": 5
}
